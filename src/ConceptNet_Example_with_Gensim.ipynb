{
  "nbformat": 4,
  "nbformat_minor": 0,
  "metadata": {
    "colab": {
      "name": "ConceptNet Example with Gensim",
      "provenance": []
    },
    "kernelspec": {
      "name": "python3",
      "display_name": "Python 3"
    }
  },
  "cells": [
    {
      "cell_type": "code",
      "metadata": {
        "id": "6PO5P960x-fG",
        "colab_type": "code",
        "colab": {
          "base_uri": "https://localhost:8080/",
          "height": 598
        },
        "outputId": "a946db3a-2235-41ff-a63d-76888b8d2abe"
      },
      "source": [
        "!wget https://conceptnet.s3.amazonaws.com/downloads/2019/numberbatch/numberbatch-en-19.08.txt.gz\n",
        "!gunzip numberbatch-en-19.08.txt.gz\n",
        "!pip install wordfreq\n",
        "! pip install gensim"
      ],
      "execution_count": 1,
      "outputs": [
        {
          "output_type": "stream",
          "text": [
            "--2020-05-09 05:05:48--  https://conceptnet.s3.amazonaws.com/downloads/2019/numberbatch/numberbatch-en-19.08.txt.gz\n",
            "Resolving conceptnet.s3.amazonaws.com (conceptnet.s3.amazonaws.com)... 52.216.146.123\n",
            "Connecting to conceptnet.s3.amazonaws.com (conceptnet.s3.amazonaws.com)|52.216.146.123|:443... connected.\n",
            "HTTP request sent, awaiting response... 200 OK\n",
            "Length: 325403502 (310M) [application/x-gzip]\n",
            "Saving to: ‘numberbatch-en-19.08.txt.gz’\n",
            "\n",
            "numberbatch-en-19.0 100%[===================>] 310.33M  16.7MB/s    in 21s     \n",
            "\n",
            "2020-05-09 05:06:10 (14.8 MB/s) - ‘numberbatch-en-19.08.txt.gz’ saved [325403502/325403502]\n",
            "\n",
            "Requirement already satisfied: wordfreq in /usr/local/lib/python3.6/dist-packages (2.3.2)\n",
            "Requirement already satisfied: langcodes>=2 in /usr/local/lib/python3.6/dist-packages (from wordfreq) (2.0.0)\n",
            "Requirement already satisfied: regex in /usr/local/lib/python3.6/dist-packages (from wordfreq) (2019.12.20)\n",
            "Requirement already satisfied: msgpack>=1.0 in /usr/local/lib/python3.6/dist-packages (from wordfreq) (1.0.0)\n",
            "Requirement already satisfied: marisa-trie in /usr/local/lib/python3.6/dist-packages (from langcodes>=2->wordfreq) (0.7.5)\n",
            "Requirement already satisfied: gensim in /usr/local/lib/python3.6/dist-packages (3.6.0)\n",
            "Requirement already satisfied: six>=1.5.0 in /usr/local/lib/python3.6/dist-packages (from gensim) (1.12.0)\n",
            "Requirement already satisfied: smart-open>=1.2.1 in /usr/local/lib/python3.6/dist-packages (from gensim) (2.0.0)\n",
            "Requirement already satisfied: numpy>=1.11.3 in /usr/local/lib/python3.6/dist-packages (from gensim) (1.18.4)\n",
            "Requirement already satisfied: scipy>=0.18.1 in /usr/local/lib/python3.6/dist-packages (from gensim) (1.4.1)\n",
            "Requirement already satisfied: boto3 in /usr/local/lib/python3.6/dist-packages (from smart-open>=1.2.1->gensim) (1.13.3)\n",
            "Requirement already satisfied: requests in /usr/local/lib/python3.6/dist-packages (from smart-open>=1.2.1->gensim) (2.23.0)\n",
            "Requirement already satisfied: boto in /usr/local/lib/python3.6/dist-packages (from smart-open>=1.2.1->gensim) (2.49.0)\n",
            "Requirement already satisfied: s3transfer<0.4.0,>=0.3.0 in /usr/local/lib/python3.6/dist-packages (from boto3->smart-open>=1.2.1->gensim) (0.3.3)\n",
            "Requirement already satisfied: botocore<1.17.0,>=1.16.3 in /usr/local/lib/python3.6/dist-packages (from boto3->smart-open>=1.2.1->gensim) (1.16.3)\n",
            "Requirement already satisfied: jmespath<1.0.0,>=0.7.1 in /usr/local/lib/python3.6/dist-packages (from boto3->smart-open>=1.2.1->gensim) (0.9.5)\n",
            "Requirement already satisfied: idna<3,>=2.5 in /usr/local/lib/python3.6/dist-packages (from requests->smart-open>=1.2.1->gensim) (2.9)\n",
            "Requirement already satisfied: urllib3!=1.25.0,!=1.25.1,<1.26,>=1.21.1 in /usr/local/lib/python3.6/dist-packages (from requests->smart-open>=1.2.1->gensim) (1.24.3)\n",
            "Requirement already satisfied: certifi>=2017.4.17 in /usr/local/lib/python3.6/dist-packages (from requests->smart-open>=1.2.1->gensim) (2020.4.5.1)\n",
            "Requirement already satisfied: chardet<4,>=3.0.2 in /usr/local/lib/python3.6/dist-packages (from requests->smart-open>=1.2.1->gensim) (3.0.4)\n",
            "Requirement already satisfied: docutils<0.16,>=0.10 in /usr/local/lib/python3.6/dist-packages (from botocore<1.17.0,>=1.16.3->boto3->smart-open>=1.2.1->gensim) (0.15.2)\n",
            "Requirement already satisfied: python-dateutil<3.0.0,>=2.1 in /usr/local/lib/python3.6/dist-packages (from botocore<1.17.0,>=1.16.3->boto3->smart-open>=1.2.1->gensim) (2.8.1)\n"
          ],
          "name": "stdout"
        }
      ]
    },
    {
      "cell_type": "code",
      "metadata": {
        "id": "ggEAYOREyIjR",
        "colab_type": "code",
        "colab": {}
      },
      "source": [
        "import wordfreq\n",
        "import gensim"
      ],
      "execution_count": 0,
      "outputs": []
    },
    {
      "cell_type": "markdown",
      "metadata": {
        "id": "xIwEQp4zytpZ",
        "colab_type": "text"
      },
      "source": [
        "2) Load Model\n"
      ]
    },
    {
      "cell_type": "code",
      "metadata": {
        "id": "ASjwJY0dygpq",
        "colab_type": "code",
        "colab": {
          "base_uri": "https://localhost:8080/",
          "height": 71
        },
        "outputId": "2e245d17-4fb7-4792-f472-d03d22fe2882"
      },
      "source": [
        "numberbatch = gensim.models.KeyedVectors.load_word2vec_format(\n",
        "    'numberbatch-en-19.08.txt', \n",
        "    binary=False, \n",
        "    unicode_errors='ignore'\n",
        ")"
      ],
      "execution_count": 3,
      "outputs": [
        {
          "output_type": "stream",
          "text": [
            "/usr/local/lib/python3.6/dist-packages/smart_open/smart_open_lib.py:253: UserWarning: This function is deprecated, use smart_open.open instead. See the migration notes for details: https://github.com/RaRe-Technologies/smart_open/blob/master/README.rst#migrating-to-the-new-open-function\n",
            "  'See the migration notes for details: %s' % _MIGRATION_NOTES_URL\n"
          ],
          "name": "stderr"
        }
      ]
    },
    {
      "cell_type": "markdown",
      "metadata": {
        "id": "B1PMW8SOzFiO",
        "colab_type": "text"
      },
      "source": [
        "3) Code to convert to conceptnet style, e.g. word -> /c/en/word"
      ]
    },
    {
      "cell_type": "code",
      "metadata": {
        "id": "_c_fwZ1T2EME",
        "colab_type": "code",
        "colab": {}
      },
      "source": [
        "import wordfreq\n",
        "import re\n",
        "import numpy as np"
      ],
      "execution_count": 0,
      "outputs": []
    },
    {
      "cell_type": "code",
      "metadata": {
        "id": "inwlje3yyg0h",
        "colab_type": "code",
        "colab": {}
      },
      "source": [
        "\n",
        "\n",
        "# English-specific stopword handling\n",
        "STOPWORDS = ['the', 'a', 'an']\n",
        "DROP_FIRST = ['to']\n",
        "DOUBLE_DIGIT_RE = re.compile(r'[0-9][0-9]')\n",
        "DIGIT_RE = re.compile(r'[0-9]')\n",
        "\n",
        "def standardized_uri(language, term):\n",
        "    \"\"\"\n",
        "    Get a URI that is suitable to label a row of a vector space, by making sure\n",
        "    that both ConceptNet's and word2vec's normalizations are applied to it.\n",
        "\n",
        "    'language' should be a BCP 47 language code, such as 'en' for English.\n",
        "\n",
        "    If the term already looks like a ConceptNet URI, it will only have its\n",
        "    sequences of digits replaced by #. Otherwise, it will be turned into a\n",
        "    ConceptNet URI in the given language, and then have its sequences of digits\n",
        "    replaced.\n",
        "    \"\"\"\n",
        "    if not (term.startswith('/') and term.count('/') >= 2):\n",
        "        term = _standardized_concept_uri(language, term)\n",
        "    return replace_numbers(term)\n",
        "\n",
        "def english_filter(tokens):\n",
        "    \"\"\"\n",
        "    Given a list of tokens, remove a small list of English stopwords. This\n",
        "    helps to work with previous versions of ConceptNet, which often provided\n",
        "    phrases such as 'an apple' and assumed they would be standardized to\n",
        "\t'apple'.\n",
        "    \"\"\"\n",
        "    non_stopwords = [token for token in tokens if token not in STOPWORDS]\n",
        "    while non_stopwords and non_stopwords[0] in DROP_FIRST:\n",
        "        non_stopwords = non_stopwords[1:]\n",
        "    if non_stopwords:\n",
        "        return non_stopwords\n",
        "    else:\n",
        "        return tokens\n",
        "\n",
        "def replace_numbers(s):\n",
        "    \"\"\"\n",
        "    Replace digits with # in any term where a sequence of two digits appears.\n",
        "\n",
        "    This operation is applied to text that passes through word2vec, so we\n",
        "    should match it.\n",
        "    \"\"\"\n",
        "    if DOUBLE_DIGIT_RE.search(s):\n",
        "        return DIGIT_RE.sub('#', s)\n",
        "    else:\n",
        "        return s\n",
        "\n",
        "def _standardized_concept_uri(language, term):\n",
        "    if language == 'en':\n",
        "        token_filter = english_filter\n",
        "    else:\n",
        "        token_filter = None\n",
        "    language = language.lower()\n",
        "    norm_text = _standardized_text(term, token_filter)\n",
        "    return '/c/{}/{}'.format(language, norm_text)\n",
        "\n",
        "def _standardized_text(text, token_filter):\n",
        "    tokens = simple_tokenize(text.replace('_', ' '))\n",
        "    if token_filter is not None:\n",
        "        tokens = token_filter(tokens)\n",
        "    return '_'.join(tokens)\n",
        "\n",
        "def simple_tokenize(text):\n",
        "    \"\"\"\n",
        "    Tokenize text using the default wordfreq rules.\n",
        "    \"\"\"\n",
        "    return wordfreq.tokenize(text, 'xx')"
      ],
      "execution_count": 0,
      "outputs": []
    },
    {
      "cell_type": "code",
      "metadata": {
        "id": "fJS48TvEyg5D",
        "colab_type": "code",
        "colab": {
          "base_uri": "https://localhost:8080/",
          "height": 34
        },
        "outputId": "c9910b0c-94e3-4083-922c-cf3017cb3f82"
      },
      "source": [
        "res = standardized_uri('en', 'dog')\n",
        "print(standardized_uri('en', 'dog'))"
      ],
      "execution_count": 5,
      "outputs": [
        {
          "output_type": "stream",
          "text": [
            "/c/en/dog\n"
          ],
          "name": "stdout"
        }
      ]
    },
    {
      "cell_type": "code",
      "metadata": {
        "id": "b8cTggsUygyk",
        "colab_type": "code",
        "colab": {
          "base_uri": "https://localhost:8080/",
          "height": 153
        },
        "outputId": "7713d403-7b1c-4059-8cc3-6d5e727f4b92"
      },
      "source": [
        "numberbatch.vectors"
      ],
      "execution_count": 6,
      "outputs": [
        {
          "output_type": "execute_result",
          "data": {
            "text/plain": [
              "array([[ 0.0295, -0.0405, -0.0341, ..., -0.0239,  0.0403, -0.0005],\n",
              "       [ 0.0202, -0.0249, -0.0653, ..., -0.0575, -0.058 ,  0.0651],\n",
              "       [ 0.0521, -0.0262, -0.0881, ..., -0.0424, -0.0192,  0.0599],\n",
              "       ...,\n",
              "       [-0.0356,  0.0516, -0.1663, ..., -0.0009, -0.0191, -0.0744],\n",
              "       [ 0.0455, -0.0179, -0.0083, ...,  0.045 ,  0.0528,  0.0087],\n",
              "       [-0.1069, -0.0508,  0.0503, ..., -0.0099, -0.0186, -0.005 ]],\n",
              "      dtype=float32)"
            ]
          },
          "metadata": {
            "tags": []
          },
          "execution_count": 6
        }
      ]
    },
    {
      "cell_type": "code",
      "metadata": {
        "id": "g63s8xHk0nKJ",
        "colab_type": "code",
        "colab": {
          "base_uri": "https://localhost:8080/",
          "height": 1000
        },
        "outputId": "17160332-2fd8-438d-8163-df68d5b2f69c"
      },
      "source": [
        "#embedding_matrix = sparse.lil_matrix((len(tok.word_index) + 1, vec_len))\n",
        "for pair in zip(numberbatch.wv.index2word, numberbatch.wv.syn0):\n",
        "  # add the word if the word in the tokenizer\n",
        "  if pair[0] in ['boy','car','other']:\n",
        "    print(pair)\n",
        "    #embedding_matrix[tok.word_index[pair[0]]] = pair[1]\n",
        "  # save the matrix to the dir\n",
        "#np.save(pair[1]+'.npy', embedding_matrix.toarray()) "
      ],
      "execution_count": 11,
      "outputs": [
        {
          "output_type": "stream",
          "text": [
            "('boy', array([ 0.0194, -0.0464,  0.0931, -0.0062, -0.1372,  0.0674, -0.0597,\n",
            "       -0.0468,  0.0528,  0.0725, -0.033 ,  0.0186, -0.08  , -0.1483,\n",
            "       -0.0197, -0.0277, -0.0074,  0.0682,  0.0124,  0.0493,  0.0696,\n",
            "       -0.0873,  0.0308, -0.0574, -0.0363, -0.0498, -0.0678,  0.0366,\n",
            "       -0.0761,  0.0057,  0.0172, -0.0418, -0.005 ,  0.0552, -0.0335,\n",
            "        0.0035, -0.0655, -0.0011, -0.1268,  0.0112, -0.0621,  0.1556,\n",
            "       -0.0118, -0.108 ,  0.0572,  0.0081,  0.0409,  0.0792, -0.056 ,\n",
            "        0.0449, -0.0798, -0.02  , -0.0328, -0.1329, -0.1324,  0.0852,\n",
            "       -0.0167,  0.0213, -0.1082,  0.0194, -0.1177,  0.089 ,  0.0198,\n",
            "        0.005 , -0.0471, -0.0557, -0.0086, -0.0759,  0.0878, -0.0414,\n",
            "        0.0152, -0.0296,  0.0411, -0.0019,  0.126 , -0.1049, -0.0466,\n",
            "        0.0242,  0.0438, -0.0039,  0.0078, -0.0189,  0.0869, -0.0235,\n",
            "       -0.0932,  0.0921, -0.0188,  0.0718, -0.0539,  0.0149, -0.1129,\n",
            "        0.0594,  0.0643, -0.0109,  0.0027, -0.1022,  0.0158,  0.0273,\n",
            "       -0.0659,  0.0561, -0.0409,  0.1052,  0.0354,  0.0455, -0.0985,\n",
            "        0.0388, -0.1724,  0.0116,  0.0304,  0.07  ,  0.0335, -0.1373,\n",
            "       -0.0077,  0.1266, -0.0574,  0.0194, -0.0127,  0.0451,  0.0512,\n",
            "        0.0355,  0.0447,  0.0038,  0.0358, -0.0196, -0.0072,  0.107 ,\n",
            "       -0.0819,  0.0599,  0.0428, -0.0338,  0.0421, -0.0773, -0.0178,\n",
            "       -0.0021,  0.0556,  0.0341,  0.0114, -0.0139, -0.0029, -0.1281,\n",
            "        0.0312, -0.0564, -0.0252, -0.0482,  0.0218,  0.1193,  0.0483,\n",
            "       -0.0079, -0.0504, -0.0865, -0.0889, -0.0354, -0.0609, -0.0975,\n",
            "        0.0279, -0.1108, -0.0201, -0.1001,  0.0716, -0.0252, -0.0295,\n",
            "        0.034 , -0.0199, -0.0609,  0.0246,  0.0308,  0.0656, -0.0854,\n",
            "       -0.0271, -0.1318,  0.0923, -0.048 ,  0.1093,  0.0596, -0.0537,\n",
            "        0.05  ,  0.0009,  0.0094, -0.06  , -0.0371, -0.0519, -0.0197,\n",
            "        0.0467, -0.0029,  0.011 ,  0.0655,  0.0509, -0.0129, -0.0559,\n",
            "        0.0359, -0.0511,  0.1047, -0.0546, -0.0261,  0.0199,  0.0443,\n",
            "        0.0267, -0.1156,  0.008 , -0.0492,  0.0409,  0.0366,  0.0187,\n",
            "        0.1062, -0.0191,  0.0409,  0.0149,  0.0641,  0.0747,  0.0581,\n",
            "        0.0363,  0.0897, -0.0558,  0.0147,  0.0414, -0.0431, -0.037 ,\n",
            "       -0.0344, -0.008 ,  0.1127,  0.0094,  0.0577,  0.044 ,  0.0381,\n",
            "       -0.0506,  0.0149, -0.0531,  0.0542,  0.0328, -0.0031, -0.0107,\n",
            "       -0.053 ,  0.022 ,  0.0319, -0.0701,  0.004 ,  0.0016, -0.0345,\n",
            "        0.0003,  0.0744, -0.0832, -0.0474,  0.0674, -0.0398,  0.0511,\n",
            "        0.0375, -0.0355, -0.0143, -0.0171, -0.0649, -0.0092,  0.0444,\n",
            "        0.0383, -0.0699, -0.023 ,  0.0006, -0.0226, -0.0038,  0.0245,\n",
            "        0.0682, -0.0312,  0.0283, -0.0173, -0.0663, -0.0053, -0.0119,\n",
            "        0.1378,  0.0738, -0.0584, -0.0429,  0.0133, -0.0023, -0.0647,\n",
            "       -0.0684, -0.0022, -0.0537, -0.0225,  0.0089, -0.0394, -0.057 ,\n",
            "        0.0002, -0.0369,  0.049 ,  0.0181,  0.0033, -0.0151,  0.029 ,\n",
            "       -0.0484,  0.0188, -0.0201, -0.0077,  0.0677, -0.0142,  0.0055,\n",
            "        0.0162,  0.0199,  0.0189,  0.0429, -0.0201, -0.0243],\n",
            "      dtype=float32))\n",
            "('car', array([-0.0059, -0.03  ,  0.0445,  0.1907, -0.0594,  0.0239, -0.0612,\n",
            "       -0.0298, -0.0728,  0.1535, -0.0342,  0.1441, -0.0042, -0.0217,\n",
            "       -0.0611,  0.0486,  0.0133, -0.0571, -0.0211, -0.1028,  0.0865,\n",
            "       -0.0288,  0.0327,  0.0639, -0.0933, -0.0826,  0.0046, -0.0511,\n",
            "        0.0436,  0.1114,  0.017 ,  0.002 ,  0.0829,  0.1658, -0.1329,\n",
            "        0.0109, -0.1395,  0.0677, -0.0742,  0.0351,  0.0563,  0.1312,\n",
            "        0.0062,  0.1934,  0.0727,  0.0154, -0.0901,  0.1704, -0.0063,\n",
            "       -0.1011,  0.1243,  0.0901, -0.0467, -0.0118,  0.0229,  0.0947,\n",
            "       -0.0443,  0.0723, -0.0976, -0.0223,  0.0436, -0.0387, -0.1057,\n",
            "        0.0951, -0.0062,  0.0673,  0.1416, -0.1326,  0.0749, -0.1218,\n",
            "        0.118 ,  0.0663,  0.1071,  0.0668, -0.0369,  0.0021,  0.0619,\n",
            "       -0.0598, -0.1225, -0.089 , -0.1155, -0.1048,  0.0569,  0.0159,\n",
            "       -0.0466,  0.0045, -0.0627,  0.0299,  0.0142,  0.0059,  0.0409,\n",
            "        0.0007, -0.1612,  0.0048, -0.0577, -0.0198, -0.0732, -0.0725,\n",
            "        0.095 , -0.0139,  0.0606, -0.0893,  0.0623, -0.0369,  0.0012,\n",
            "        0.045 ,  0.0415,  0.0639,  0.0081,  0.0698, -0.0385,  0.0219,\n",
            "       -0.0824,  0.0293,  0.0418,  0.013 ,  0.0081,  0.0647,  0.0062,\n",
            "        0.1173, -0.0003,  0.0021,  0.0018, -0.0087,  0.0051,  0.0097,\n",
            "       -0.0774,  0.0038,  0.0278, -0.0021,  0.18  ,  0.0702, -0.0367,\n",
            "        0.013 , -0.021 , -0.0255,  0.0155,  0.0564,  0.0057, -0.0746,\n",
            "       -0.0663, -0.015 , -0.0849, -0.0225,  0.0312, -0.0306,  0.0847,\n",
            "        0.0512,  0.0067,  0.1018,  0.0399, -0.0144,  0.0444,  0.0341,\n",
            "        0.0257, -0.0383, -0.0354, -0.0653, -0.0433, -0.0527,  0.101 ,\n",
            "        0.0109, -0.0356,  0.0119,  0.0147,  0.0005,  0.0257,  0.0441,\n",
            "       -0.0331, -0.0345, -0.0889, -0.0397, -0.0324,  0.0541,  0.0387,\n",
            "       -0.0216, -0.0442, -0.    ,  0.014 ,  0.0177, -0.1055,  0.013 ,\n",
            "       -0.0317, -0.0639,  0.0128, -0.1002, -0.0239, -0.0155,  0.0776,\n",
            "        0.0229,  0.0302, -0.0687,  0.0192, -0.0542,  0.0018,  0.0547,\n",
            "        0.0219,  0.0744, -0.0218,  0.0135,  0.0804,  0.0219, -0.058 ,\n",
            "        0.0246,  0.019 ,  0.0101, -0.0615, -0.0133,  0.0401, -0.0181,\n",
            "        0.0129,  0.001 , -0.0108,  0.0214,  0.0396,  0.0271, -0.0243,\n",
            "        0.0023, -0.0565, -0.0003, -0.0115,  0.0311,  0.0241, -0.0263,\n",
            "        0.0925,  0.0101, -0.0008,  0.0436, -0.0171,  0.0426, -0.0405,\n",
            "       -0.0211,  0.0157,  0.0232,  0.068 , -0.0004,  0.0136, -0.0183,\n",
            "        0.0482,  0.0163,  0.0118, -0.0631, -0.0045,  0.0078,  0.0239,\n",
            "       -0.0095, -0.0535, -0.0176,  0.0143,  0.0121,  0.022 ,  0.0019,\n",
            "        0.0028,  0.0354,  0.0634,  0.0093,  0.0594,  0.0281,  0.043 ,\n",
            "        0.0053, -0.0204,  0.0245, -0.0218, -0.0281, -0.0155,  0.0169,\n",
            "        0.0213, -0.0096,  0.0149, -0.0021,  0.0441,  0.0507, -0.0117,\n",
            "        0.0022,  0.0012,  0.011 , -0.0125, -0.0002, -0.0448, -0.055 ,\n",
            "       -0.0199, -0.0085, -0.0352, -0.0229, -0.0473, -0.0082,  0.0117,\n",
            "        0.0114,  0.0065,  0.0342,  0.0028,  0.0119, -0.0135,  0.0257,\n",
            "       -0.0153,  0.0417, -0.0046,  0.0109,  0.0113,  0.0449],\n",
            "      dtype=float32))\n",
            "('other', array([-0.053 , -0.0498, -0.0278,  0.0476, -0.0622,  0.0929,  0.0133,\n",
            "       -0.0161,  0.1355, -0.0303, -0.0555,  0.1564, -0.1058, -0.0623,\n",
            "        0.0883,  0.035 ,  0.0146, -0.0024,  0.0644, -0.013 ,  0.0665,\n",
            "       -0.06  , -0.0032, -0.0651,  0.034 , -0.1369, -0.0247, -0.0168,\n",
            "       -0.0187,  0.0138, -0.0612,  0.0424, -0.0994, -0.0813, -0.0465,\n",
            "       -0.1226, -0.0406,  0.0232, -0.0995, -0.111 , -0.0382, -0.0148,\n",
            "        0.0544, -0.0273, -0.0474,  0.022 ,  0.0627,  0.0499,  0.0036,\n",
            "       -0.0224,  0.0675, -0.0557, -0.0761,  0.0422,  0.0864,  0.1106,\n",
            "        0.0241,  0.0705,  0.0761, -0.0888, -0.1222,  0.0077, -0.0976,\n",
            "        0.0359, -0.0366,  0.0777,  0.1384, -0.0748, -0.0497,  0.0121,\n",
            "       -0.0179, -0.0959, -0.0394, -0.0888, -0.0054, -0.0404, -0.1035,\n",
            "        0.0382,  0.0218,  0.0065,  0.054 ,  0.0153,  0.0135,  0.0318,\n",
            "        0.022 ,  0.0672,  0.0054,  0.1318, -0.0099, -0.0304, -0.003 ,\n",
            "        0.0057, -0.0138, -0.0336, -0.1435,  0.0751, -0.0097, -0.0205,\n",
            "       -0.0323,  0.018 ,  0.0013,  0.0422,  0.0619,  0.0325, -0.0733,\n",
            "        0.0708,  0.071 , -0.1075, -0.0656,  0.0009,  0.0613,  0.0454,\n",
            "        0.0277,  0.0322,  0.064 ,  0.084 ,  0.0219, -0.0405, -0.0189,\n",
            "        0.1368, -0.0398,  0.0278, -0.0219,  0.0263, -0.015 , -0.1111,\n",
            "       -0.0406,  0.0327, -0.0885, -0.034 , -0.1327, -0.0295, -0.0294,\n",
            "        0.0455,  0.0158, -0.058 , -0.0085, -0.0029, -0.0859, -0.0589,\n",
            "       -0.0179, -0.0374, -0.067 ,  0.0086, -0.0301,  0.0369, -0.0481,\n",
            "        0.0394,  0.0674, -0.0035,  0.0279, -0.0386, -0.0162,  0.0382,\n",
            "        0.0224,  0.0039,  0.0563,  0.0564,  0.0583,  0.222 ,  0.0554,\n",
            "        0.0435,  0.0015, -0.0271, -0.0134, -0.0276, -0.0322, -0.0829,\n",
            "       -0.0229, -0.0593,  0.0092,  0.0844, -0.0548,  0.066 , -0.0263,\n",
            "       -0.0849, -0.0124, -0.0982, -0.0318, -0.023 ,  0.0456,  0.0583,\n",
            "        0.008 , -0.0553, -0.0778, -0.0683, -0.0974, -0.0086,  0.0035,\n",
            "        0.0105, -0.0009, -0.0113,  0.0145, -0.0247, -0.0047, -0.1343,\n",
            "       -0.0022,  0.0072, -0.0465,  0.1421, -0.0322, -0.0352,  0.0543,\n",
            "        0.0513,  0.0047, -0.0459, -0.0374, -0.0537, -0.0178,  0.0277,\n",
            "       -0.0202,  0.0371,  0.0228,  0.1067, -0.071 ,  0.0566,  0.0288,\n",
            "        0.0174,  0.0111, -0.0012, -0.0221,  0.0321,  0.0758, -0.0023,\n",
            "       -0.0715,  0.0767, -0.0405,  0.0325,  0.0227, -0.0008,  0.0379,\n",
            "        0.0318,  0.0941, -0.0216,  0.0276, -0.0759, -0.0008,  0.0264,\n",
            "        0.0347, -0.0249,  0.0534,  0.0863,  0.0263,  0.0005, -0.1018,\n",
            "        0.088 , -0.0567,  0.0393, -0.0276,  0.0479, -0.0035, -0.032 ,\n",
            "        0.0009, -0.0056, -0.0243, -0.0348, -0.0304,  0.0053,  0.0112,\n",
            "        0.0344, -0.1414,  0.1033, -0.0474, -0.0126,  0.0259, -0.0855,\n",
            "        0.0323, -0.1405,  0.0492, -0.0396, -0.066 ,  0.0406,  0.0336,\n",
            "       -0.0167,  0.0067,  0.0952,  0.0163, -0.0143,  0.0294, -0.0836,\n",
            "        0.0184,  0.0501,  0.0699,  0.011 ,  0.0108, -0.0501,  0.0851,\n",
            "        0.0034,  0.0326, -0.0256, -0.018 , -0.0214,  0.0537,  0.0051,\n",
            "       -0.018 ,  0.024 ,  0.0431, -0.0281, -0.0189,  0.0032],\n",
            "      dtype=float32))\n"
          ],
          "name": "stdout"
        },
        {
          "output_type": "stream",
          "text": [
            "/usr/local/lib/python3.6/dist-packages/ipykernel_launcher.py:1: DeprecationWarning: Call to deprecated `wv` (Attribute will be removed in 4.0.0, use self instead).\n",
            "  \"\"\"Entry point for launching an IPython kernel.\n",
            "/usr/local/lib/python3.6/dist-packages/ipykernel_launcher.py:1: DeprecationWarning: Call to deprecated `syn0` (Attribute will be removed in 4.0.0, use self.wv.vectors instead).\n",
            "  \"\"\"Entry point for launching an IPython kernel.\n"
          ],
          "name": "stderr"
        }
      ]
    },
    {
      "cell_type": "code",
      "metadata": {
        "id": "AQoRM06P15om",
        "colab_type": "code",
        "colab": {}
      },
      "source": [
        ""
      ],
      "execution_count": 0,
      "outputs": []
    }
  ]
}